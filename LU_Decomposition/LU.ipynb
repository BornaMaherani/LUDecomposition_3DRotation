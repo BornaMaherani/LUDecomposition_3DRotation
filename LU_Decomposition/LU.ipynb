{
 "cells": [
  {
   "cell_type": "markdown",
   "metadata": {},
   "source": [
    "Question 1 By Borna Maherani ID = 401243079"
   ]
  },
  {
   "cell_type": "markdown",
   "metadata": {},
   "source": [
    "<h1>LU decomosition function</h1>"
   ]
  },
  {
   "cell_type": "code",
   "execution_count": 5,
   "metadata": {},
   "outputs": [
    {
     "data": {
      "text/plain": [
       "(array([[1., 0., 0.],\n",
       "        [3., 1., 0.],\n",
       "        [1., 1., 1.]]),\n",
       " array([[ 1.,  1.,  1.],\n",
       "        [ 0., -2., -1.],\n",
       "        [ 0.,  0.,  1.]]))"
      ]
     },
     "execution_count": 5,
     "metadata": {},
     "output_type": "execute_result"
    }
   ],
   "source": [
    "import numpy as np\n",
    "def LU_decmp(A, n):\n",
    "    L = np.zeros((n,n))\n",
    "    U = np.zeros((n,n))\n",
    "    for i in range(n):\n",
    "        # Upper Triangular\n",
    "        for k in range(i, n):\n",
    "            sum = 0\n",
    "            for j in range(i):\n",
    "                sum += (L[i][j] * U[j][k])\n",
    "            U[i][k] = A[i][k] - sum\n",
    "        # Lower Triangular\n",
    "        for k in range(i, n):\n",
    "            if (i == k):\n",
    "                L[i][i] = 1\n",
    "            else:\n",
    "                sum = 0\n",
    "                for j in range(i):\n",
    "                    sum += (L[k][j] * U[j][i])\n",
    "                L[k][i] = (A[k][i] - sum) / U[i][i]\n",
    "    return L,U\n",
    "\n",
    "A = np.array([\n",
    "    [1,1,1],\n",
    "    [3,1,2],\n",
    "    [1,-1,1]\n",
    "])\n",
    "l,u=LU_decmp(A,3)\n",
    "l,u"
   ]
  },
  {
   "cell_type": "markdown",
   "metadata": {},
   "source": [
    "<h1>solving Ax=b with LU</h1>"
   ]
  },
  {
   "cell_type": "code",
   "execution_count": 6,
   "metadata": {},
   "outputs": [
    {
     "data": {
      "text/plain": [
       "[-1.0, -2.0, 3.0]"
      ]
     },
     "execution_count": 6,
     "metadata": {},
     "output_type": "execute_result"
    }
   ],
   "source": [
    "def LU_solve(A,b,n):\n",
    "    Y = []\n",
    "    L,U = LU_decmp(A,n)\n",
    "    X = []\n",
    "    # LY = b\n",
    "    for i in range(0, n):\n",
    "        sum = 0\n",
    "        for k in range (0, i):\n",
    "            sum += L[i][k] * Y[k]\n",
    "        temp = (b[i] - sum)/L[i][i]\n",
    "        Y.insert(i,temp)\n",
    "    # UX = Y \n",
    "    for i in range(n-1,-1,-1):\n",
    "        sum = 0\n",
    "        for k in range (n-1,i,-1):\n",
    "            sum += U[i][k] * X[n-k-1]\n",
    "        temp = (Y[i] - sum)/U[i][i]\n",
    "        X.insert(0,temp)\n",
    "    return X\n",
    "b = [0,1,4]\n",
    "A = np.array([\n",
    "    [1,1,1],\n",
    "    [3,1,2],\n",
    "    [1,-1,1]\n",
    "])\n",
    "LU_solve(A,b,3)\n"
   ]
  },
  {
   "cell_type": "markdown",
   "metadata": {},
   "source": [
    "<h1>Getting input and solvind with LU methode</h1>"
   ]
  },
  {
   "cell_type": "code",
   "execution_count": 54,
   "metadata": {},
   "outputs": [
    {
     "name": "stdout",
     "output_type": "stream",
     "text": [
      "[-2.6000000000000005, 1.85, -0.26666666666666666]\n"
     ]
    }
   ],
   "source": [
    "#Number of variables\n",
    "n = int(input(\"Enter the number of variables: \"))\n",
    "#matrix of coefficients\n",
    "A = np.empty((0,n), int)\n",
    "# matrix of constants\n",
    "b = []\n",
    "\n",
    "\"\"\"\n",
    "geting the coefficinets and constants(every input should be in a line and splited by 'space')\n",
    "example: n=3 \n",
    "1 3 4 \n",
    "4\n",
    "0 4 9\n",
    "5\n",
    "10 4 1 \n",
    "6\n",
    "\"\"\"\n",
    "for i in range(0,n):\n",
    "    line = input(f\"Enter the coefficients of eq {i+1}: \").split()\n",
    "    line = list(map(int, line))\n",
    "    A = np.append(A, np.array([line]), axis=0)\n",
    "    line = int(input(f\"Enter the constants of eq {i+1}: \"))\n",
    "    b.append(line)\n",
    "\n",
    "print (LU_solve(A,b,n))"
   ]
  },
  {
   "cell_type": "markdown",
   "metadata": {},
   "source": [
    "<h1> Test Cases </h1>"
   ]
  },
  {
   "cell_type": "code",
   "execution_count": 15,
   "metadata": {},
   "outputs": [
    {
     "name": "stdout",
     "output_type": "stream",
     "text": [
      "[1.0, 1.0, 1.0]\n",
      "[1.0, 2.0, 1.0]\n"
     ]
    },
    {
     "data": {
      "text/plain": [
       "(array([[ 1.,  0.,  0.],\n",
       "        [ 0.,  1.,  0.],\n",
       "        [ 1., -5.,  1.]]),\n",
       " array([[ 1.,  5.,  0.],\n",
       "        [ 0.,  1.,  2.],\n",
       "        [ 0.,  0., 11.]]))"
      ]
     },
     "execution_count": 15,
     "metadata": {},
     "output_type": "execute_result"
    }
   ],
   "source": [
    "A = np.array([\n",
    "    [1,1,1],\n",
    "    [3,1,2],\n",
    "    [1,-1,1]\n",
    "])\n",
    "b = [3,6,1]\n",
    "print(LU_solve(A,b,3))\n",
    "\n",
    "A = np.array([\n",
    "    [1,1,1],\n",
    "    [3,1,2],\n",
    "    [1,-1,1]\n",
    "])\n",
    "b = [4,7,0]\n",
    "print(LU_solve(A,b,3))\n",
    "\n",
    "A = np.array([\n",
    "    [1,5,0],\n",
    "    [0,1,2],\n",
    "    [1,0,1]\n",
    "])\n",
    "b = [11,0,0]\n",
    "print(LU_solve(A,b,3))\n",
    "LU_decmp(A,3)"
   ]
  }
 ],
 "metadata": {
  "kernelspec": {
   "display_name": "Python 3",
   "language": "python",
   "name": "python3"
  },
  "language_info": {
   "codemirror_mode": {
    "name": "ipython",
    "version": 3
   },
   "file_extension": ".py",
   "mimetype": "text/x-python",
   "name": "python",
   "nbconvert_exporter": "python",
   "pygments_lexer": "ipython3",
   "version": "3.10.12"
  }
 },
 "nbformat": 4,
 "nbformat_minor": 2
}
